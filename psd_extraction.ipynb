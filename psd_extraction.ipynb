{
  "nbformat": 4,
  "nbformat_minor": 0,
  "metadata": {
    "colab": {
      "provenance": []
    },
    "kernelspec": {
      "name": "python3",
      "display_name": "Python 3"
    },
    "language_info": {
      "name": "python"
    }
  },
  "cells": [
    {
      "cell_type": "code",
      "execution_count": null,
      "metadata": {
        "id": "13J5GLPLxwCh"
      },
      "outputs": [],
      "source": [
        "from google.colab import drive\n",
        "drive.mount('/content/drive')"
      ]
    },
    {
      "cell_type": "code",
      "source": [
        "import os\n",
        "import pywt\n",
        "import numpy as np\n",
        "import pandas as pd\n",
        "from mne.io import read_raw_fif\n",
        "import matplotlib\n",
        "from scipy import signal\n",
        "import scipy.io\n",
        "import mne"
      ],
      "metadata": {
        "id": "_jxwPlFlx3cq"
      },
      "execution_count": null,
      "outputs": []
    },
    {
      "cell_type": "code",
      "source": [
        "def get_avg_psds(freqs,psds):\n",
        "\n",
        "    FREQ_BANDS = {\"delta\": [1, 5.0],\n",
        "                  \"theta\": [5.0, 8.0],\n",
        "                  \"alpha\": [8.0, 13.0],\n",
        "                  \"beta\": [13.0, 30.0],\n",
        "                  \"gamma\": [30.0, 40.0]}\n",
        "\n",
        "    psds_bands = []\n",
        "    for fmin, fmax in FREQ_BANDS.values():\n",
        "      psds_slice = psds[(freqs >= fmin) & (freqs < fmax)]\n",
        "      if len(psds_slice) > 0:\n",
        "          psds_band = psds_slice.mean()\n",
        "      else:\n",
        "          psds_band = 1  # or any other value you prefer for empty slices\n",
        "      psds_bands.append(psds_band)\n",
        "\n",
        "    psds_bands = np.array(psds_bands)\n",
        "    relative_psds = psds_bands/psds_bands.sum()     # Relative band values\n",
        "    abs_psds=psds_bands                 # Absolute band values\n",
        "#     print('{0:.3f}'.format(relative_psds[0]), ',','{0:.3f}'.format(relative_psds[1]),\n",
        "#     ',','{0:.3f}'.format(relative_psds[2]), ',', '{0:.3f}'.format(relative_psds[3]),\n",
        "#           ',','{0:.3f}'.format(relative_psds[4]), ',','{0:.3f}'.format(relative_psds[5]))\n",
        "    print(relative_psds[0], ',',relative_psds[1], ',',relative_psds[2], ',', relative_psds[3],\n",
        "          ',',relative_psds[4])\n",
        "    return relative_psds,abs_psds"
      ],
      "metadata": {
        "id": "FR9VKQe9x9o0"
      },
      "execution_count": null,
      "outputs": []
    },
    {
      "cell_type": "code",
      "source": [
        "import pandas as pd\n",
        "import os\n",
        "import scipy.io\n",
        "\n",
        "folder_path = '/content/drive/MyDrive/dense/cleaned_data/'\n",
        "\n",
        "# Load the 8-scale emotion labels file\n",
        "emotion_labels_path = '/content/drive/MyDrive/dense/cleaned_data_readings.csv'\n",
        "emotion_labels_data = pd.read_csv(emotion_labels_path)\n",
        "\n",
        "file_names = []\n",
        "labels = []\n",
        "\n",
        "ch_delta_psd = [[] for _ in range(32)]\n",
        "ch_theta_psd = [[] for _ in range(32)]\n",
        "ch_alpha_psd = [[] for _ in range(32)]\n",
        "ch_beta_psd = [[] for _ in range(32)]\n",
        "ch_gamma_psd = [[] for _ in range(32)]\n",
        "\n",
        "ch_psd_dfs = []\n",
        "select_ch = [21,22,32,23,10,27,12,44,35,46,36,57,51,66,69,8,2,121,123,116,111,107,103,97,86,95,91,61,76,82,74]\n",
        "ch_names = ['FP1','AF3','F7','F3','Fz','FC5','FC1','T7','C3','CP5','CP1','P7','P3','PO3','O1','FP2','AF4','F8','F4','FC6','FC2','T8','C4','CP6','CP2','P8','P4','Pz','PO4','O2','Oz']\n",
        "\n",
        "for i in range(32):\n",
        "    for j in range(5):\n",
        "        ch_psd = ch_delta_psd if j == 0 else ch_theta_psd if j == 1 else ch_alpha_psd if j == 2 else ch_beta_psd if j == 3 else ch_gamma_psd\n",
        "        ch_psd_df = pd.DataFrame({f'ch{i+1}_{[\"delta\", \"theta\", \"alpha\", \"beta\", \"gamma\"][j]}_psd': ch_psd[i]})\n",
        "        ch_psd_dfs.append(ch_psd_df)\n",
        "\n",
        "def append_psd(data, index, fx, preps):\n",
        "    apsd, abs_apsd = get_avg_psds(fx, preps)\n",
        "    for i, psd in enumerate(apsd):\n",
        "        data[i].append(psd)\n",
        "\n",
        "for index, row in emotion_labels_data.iterrows():\n",
        "    group = row['Groups']\n",
        "    file_name = row['file_name']\n",
        "    emotion_label = row['emotion_category']\n",
        "    n_fft = 1751  # length of fft\n",
        "    file_path = os.path.join(folder_path, f\"{group}/\", f\"{file_name}\")\n",
        "    raw = scipy.io.loadmat(file_path)\n",
        "    print(raw)  # Print the raw data directly\n",
        "    labels.append(emotion_label)\n",
        "    file_names.append(file_name)\n",
        "\n",
        "ch_psd_df = pd.concat(ch_psd_dfs, axis=1)\n",
        "result_csv_path = '/content/drive/MyDrive/eeg_psd/psd_bandwise_encoded_with_8_scales_labels_and_channels.csv'\n",
        "ch_psd_df.to_csv(result_csv_path, index=False)\n",
        "\n",
        "print(f\"CSV file created for PSD: {result_csv_path}\")\n"
      ],
      "metadata": {
        "id": "PkmeNJHXyVpg"
      },
      "execution_count": null,
      "outputs": []
    }
  ]
}